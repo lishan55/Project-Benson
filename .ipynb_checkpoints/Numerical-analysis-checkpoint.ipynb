{
 "cells": [
  {
   "cell_type": "code",
   "execution_count": 1,
   "metadata": {
    "collapsed": true
   },
   "outputs": [],
   "source": [
    "import numpy as np\n",
    "import pandas as pd\n",
    "import matplotlib.pyplot as plt\n",
    "%matplotlib inline\n",
    "import os"
   ]
  },
  {
   "cell_type": "code",
   "execution_count": 2,
   "metadata": {},
   "outputs": [],
   "source": [
    "data_daily = pd.read_csv('Data/data_daily_weather.csv')"
   ]
  },
  {
   "cell_type": "code",
   "execution_count": 3,
   "metadata": {},
   "outputs": [
    {
     "data": {
      "text/html": [
       "<div>\n",
       "<table border=\"1\" class=\"dataframe\">\n",
       "  <thead>\n",
       "    <tr style=\"text-align: right;\">\n",
       "      <th></th>\n",
       "      <th>Unnamed: 0</th>\n",
       "      <th>C/A</th>\n",
       "      <th>UNIT</th>\n",
       "      <th>SCP</th>\n",
       "      <th>STATION</th>\n",
       "      <th>UN_STATION</th>\n",
       "      <th>DATE</th>\n",
       "      <th>ENTRIES</th>\n",
       "      <th>PREV_DATE</th>\n",
       "      <th>PREV_ENTRIES</th>\n",
       "      <th>EXITS</th>\n",
       "      <th>PREV_EXITS</th>\n",
       "      <th>SALDO_ENTRIES</th>\n",
       "      <th>SALDO_EXITS</th>\n",
       "      <th>TRANSITING</th>\n",
       "      <th>PRCP</th>\n",
       "    </tr>\n",
       "  </thead>\n",
       "  <tbody>\n",
       "    <tr>\n",
       "      <th>0</th>\n",
       "      <td>0</td>\n",
       "      <td>A002</td>\n",
       "      <td>R051</td>\n",
       "      <td>02-00-00</td>\n",
       "      <td>59 ST</td>\n",
       "      <td>59ST456NQR</td>\n",
       "      <td>2016-06-27</td>\n",
       "      <td>5714706</td>\n",
       "      <td>06/26/2016</td>\n",
       "      <td>5714130.0</td>\n",
       "      <td>1938907</td>\n",
       "      <td>1938649.0</td>\n",
       "      <td>576.0</td>\n",
       "      <td>258.0</td>\n",
       "      <td>834.0</td>\n",
       "      <td>0.45</td>\n",
       "    </tr>\n",
       "    <tr>\n",
       "      <th>1</th>\n",
       "      <td>1</td>\n",
       "      <td>A002</td>\n",
       "      <td>R051</td>\n",
       "      <td>02-00-01</td>\n",
       "      <td>59 ST</td>\n",
       "      <td>59ST456NQR</td>\n",
       "      <td>2016-06-27</td>\n",
       "      <td>5258231</td>\n",
       "      <td>06/26/2016</td>\n",
       "      <td>5257426.0</td>\n",
       "      <td>1153431</td>\n",
       "      <td>1153236.0</td>\n",
       "      <td>805.0</td>\n",
       "      <td>195.0</td>\n",
       "      <td>1000.0</td>\n",
       "      <td>0.45</td>\n",
       "    </tr>\n",
       "    <tr>\n",
       "      <th>2</th>\n",
       "      <td>2</td>\n",
       "      <td>A002</td>\n",
       "      <td>R051</td>\n",
       "      <td>02-03-00</td>\n",
       "      <td>59 ST</td>\n",
       "      <td>59ST456NQR</td>\n",
       "      <td>2016-06-27</td>\n",
       "      <td>724086</td>\n",
       "      <td>06/26/2016</td>\n",
       "      <td>723741.0</td>\n",
       "      <td>2733057</td>\n",
       "      <td>2731725.0</td>\n",
       "      <td>345.0</td>\n",
       "      <td>1332.0</td>\n",
       "      <td>1677.0</td>\n",
       "      <td>0.45</td>\n",
       "    </tr>\n",
       "  </tbody>\n",
       "</table>\n",
       "</div>"
      ],
      "text/plain": [
       "   Unnamed: 0   C/A  UNIT       SCP STATION  UN_STATION        DATE  ENTRIES  \\\n",
       "0           0  A002  R051  02-00-00   59 ST  59ST456NQR  2016-06-27  5714706   \n",
       "1           1  A002  R051  02-00-01   59 ST  59ST456NQR  2016-06-27  5258231   \n",
       "2           2  A002  R051  02-03-00   59 ST  59ST456NQR  2016-06-27   724086   \n",
       "\n",
       "    PREV_DATE  PREV_ENTRIES    EXITS  PREV_EXITS  SALDO_ENTRIES  SALDO_EXITS  \\\n",
       "0  06/26/2016     5714130.0  1938907   1938649.0          576.0        258.0   \n",
       "1  06/26/2016     5257426.0  1153431   1153236.0          805.0        195.0   \n",
       "2  06/26/2016      723741.0  2733057   2731725.0          345.0       1332.0   \n",
       "\n",
       "   TRANSITING  PRCP  \n",
       "0       834.0  0.45  \n",
       "1      1000.0  0.45  \n",
       "2      1677.0  0.45  "
      ]
     },
     "execution_count": 3,
     "metadata": {},
     "output_type": "execute_result"
    }
   ],
   "source": [
    "data_daily.head(3)"
   ]
  },
  {
   "cell_type": "code",
   "execution_count": 4,
   "metadata": {},
   "outputs": [],
   "source": [
    "data_daily = data_daily[data_daily['TRANSITING']<10000]"
   ]
  },
  {
   "cell_type": "code",
   "execution_count": 5,
   "metadata": {},
   "outputs": [
    {
     "data": {
      "text/html": [
       "<div>\n",
       "<table border=\"1\" class=\"dataframe\">\n",
       "  <thead>\n",
       "    <tr style=\"text-align: right;\">\n",
       "      <th></th>\n",
       "      <th>DATE</th>\n",
       "      <th>TRANSITING</th>\n",
       "      <th>PRCP</th>\n",
       "    </tr>\n",
       "  </thead>\n",
       "  <tbody>\n",
       "    <tr>\n",
       "      <th>0</th>\n",
       "      <td>2016-06-27</td>\n",
       "      <td>834.0</td>\n",
       "      <td>0.45</td>\n",
       "    </tr>\n",
       "    <tr>\n",
       "      <th>1</th>\n",
       "      <td>2016-06-27</td>\n",
       "      <td>1000.0</td>\n",
       "      <td>0.45</td>\n",
       "    </tr>\n",
       "    <tr>\n",
       "      <th>2</th>\n",
       "      <td>2016-06-27</td>\n",
       "      <td>1677.0</td>\n",
       "      <td>0.45</td>\n",
       "    </tr>\n",
       "  </tbody>\n",
       "</table>\n",
       "</div>"
      ],
      "text/plain": [
       "         DATE  TRANSITING  PRCP\n",
       "0  2016-06-27       834.0  0.45\n",
       "1  2016-06-27      1000.0  0.45\n",
       "2  2016-06-27      1677.0  0.45"
      ]
     },
     "execution_count": 5,
     "metadata": {},
     "output_type": "execute_result"
    }
   ],
   "source": [
    "df = data_daily[['DATE','TRANSITING','PRCP']]\n",
    "df.head(3)"
   ]
  },
  {
   "cell_type": "code",
   "execution_count": 6,
   "metadata": {},
   "outputs": [
    {
     "data": {
      "text/html": [
       "<div>\n",
       "<table border=\"1\" class=\"dataframe\">\n",
       "  <thead>\n",
       "    <tr style=\"text-align: right;\">\n",
       "      <th></th>\n",
       "      <th>TRANSITING</th>\n",
       "      <th>PRCP</th>\n",
       "    </tr>\n",
       "    <tr>\n",
       "      <th>DATE</th>\n",
       "      <th></th>\n",
       "      <th></th>\n",
       "    </tr>\n",
       "  </thead>\n",
       "  <tbody>\n",
       "    <tr>\n",
       "      <th>2016-06-27</th>\n",
       "      <td>5226200.0</td>\n",
       "      <td>0.45</td>\n",
       "    </tr>\n",
       "    <tr>\n",
       "      <th>2016-06-28</th>\n",
       "      <td>9523890.0</td>\n",
       "      <td>0.12</td>\n",
       "    </tr>\n",
       "    <tr>\n",
       "      <th>2016-06-29</th>\n",
       "      <td>9685736.0</td>\n",
       "      <td>0.01</td>\n",
       "    </tr>\n",
       "  </tbody>\n",
       "</table>\n",
       "</div>"
      ],
      "text/plain": [
       "            TRANSITING  PRCP\n",
       "DATE                        \n",
       "2016-06-27   5226200.0  0.45\n",
       "2016-06-28   9523890.0  0.12\n",
       "2016-06-29   9685736.0  0.01"
      ]
     },
     "execution_count": 6,
     "metadata": {},
     "output_type": "execute_result"
    }
   ],
   "source": [
    "df = pd.concat([(df.groupby(by = 'DATE')['TRANSITING'].sum()),\\\n",
    "                (df.groupby(by = 'DATE')['PRCP'].mean())],axis=1)\n",
    "df.head(3)"
   ]
  },
  {
   "cell_type": "markdown",
   "metadata": {},
   "source": [
    "## 2.1 Plotting the data"
   ]
  },
  {
   "cell_type": "code",
   "execution_count": 7,
   "metadata": {},
   "outputs": [
    {
     "data": {
      "text/plain": [
       "<matplotlib.text.Text at 0x11060cb10>"
      ]
     },
     "execution_count": 7,
     "metadata": {},
     "output_type": "execute_result"
    },
    {
     "data": {
      "image/png": "[encoded data removed]",
      "text/plain": [
       "<matplotlib.figure.Figure at 0x11ce9d450>"
      ]
     },
     "metadata": {},
     "output_type": "display_data"
    }
   ],
   "source": [
    "plt.scatter(df['PRCP'], df['TRANSITING'], marker='x',color='red',s = 25)\n",
    "plt.xlabel('Rain') \n",
    "plt.ylabel('Riders')\n",
    "plt.title('Scatter plot of training data')"
   ]
  },
  {
   "cell_type": "markdown",
   "metadata": {},
   "source": [
    "## 2.2 Gradient Descent"
   ]
  },
  {
   "cell_type": "code",
   "execution_count": 8,
   "metadata": {},
   "outputs": [
    {
     "data": {
      "text/plain": [
       "((89, 2), (1, 2), (89, 1))"
      ]
     },
     "execution_count": 8,
     "metadata": {},
     "output_type": "execute_result"
    }
   ],
   "source": [
    "df.insert(0, 'Ones',1)\n",
    "X = df.iloc[:,0:2]\n",
    "y = df.iloc[:,2:3]\n",
    "X =np.matrix(X.values)\n",
    "y= np.matrix(y.values)\n",
    "m = len(df)\n",
    "alpha = 0.00001\n",
    "iterations = 2\n",
    "theta = np.matrix(np.array([0,0]))\n",
    "X.shape,theta.shape,y.shape"
   ]
  },
  {
   "cell_type": "code",
   "execution_count": 9,
   "metadata": {},
   "outputs": [
    {
     "data": {
      "text/plain": [
       "0.043762921348313763"
      ]
     },
     "execution_count": 9,
     "metadata": {},
     "output_type": "execute_result"
    }
   ],
   "source": [
    "def computeCost(X, y, theta):\n",
    "    term = np.power(((X * theta.T)-y),2)\n",
    "    return np.sum(term) / (2*m)\n",
    "computeCost(X,y,theta)"
   ]
  },
  {
   "cell_type": "code",
   "execution_count": 10,
   "metadata": {},
   "outputs": [],
   "source": [
    "def gradient(X, y, theta, alpha, iterations):\n",
    "    theta_temp = np.matrix(np.zeros(theta.shape))\n",
    "    theta_trail = np.zeros((383588, 2))\n",
    "    cost = np.zeros(iterations)\n",
    "    m = float(X.shape[0])\n",
    "    \n",
    "    for i in range(iterations):\n",
    "        error = (X * theta.T) - y\n",
    "        \n",
    "        for j in range(theta.shape[1]):\n",
    "            func = np.multiply(error, X[:,j])\n",
    "            theta_temp[0,j] = theta[0,j] - ((alpha / m) * np.sum(func))\n",
    "            \n",
    "        theta_trail[i,:] = theta\n",
    "        cost[i]=computeCost(X,y,theta)\n",
    "        theta = theta_temp\n",
    "    return theta, theta_trail, cost\n",
    "\n",
    "theta, theta_trail, cost = gradient(X, y, theta, alpha, iterations)"
   ]
  },
  {
   "cell_type": "code",
   "execution_count": 11,
   "metadata": {},
   "outputs": [
    {
     "data": {
      "text/plain": [
       "array([  4.37629213e-02,   1.60250595e+33])"
      ]
     },
     "execution_count": 11,
     "metadata": {},
     "output_type": "execute_result"
    }
   ],
   "source": [
    "cost"
   ]
  },
  {
   "cell_type": "code",
   "execution_count": 12,
   "metadata": {},
   "outputs": [
    {
     "data": {
      "text/plain": [
       "matrix([[ -7.82548382e+02,  -6.76546815e+09]])"
      ]
     },
     "execution_count": 12,
     "metadata": {},
     "output_type": "execute_result"
    }
   ],
   "source": [
    "theta"
   ]
  },
  {
   "cell_type": "code",
   "execution_count": 13,
   "metadata": {},
   "outputs": [
    {
     "data": {
      "text/plain": [
       "<matplotlib.legend.Legend at 0x118d2b810>"
      ]
     },
     "execution_count": 13,
     "metadata": {},
     "output_type": "execute_result"
    },
    {
     "data": {
      "image/png": "[encoded data removed]",
      "text/plain": [
       "<matplotlib.figure.Figure at 0x1189c6d10>"
      ]
     },
     "metadata": {},
     "output_type": "display_data"
    }
   ],
   "source": [
    "x = np.linspace(df['PRCP'].min(), df['PRCP'].max(),100)\n",
    "f = theta[0,0]*1 + (theta[0,1]*x)\n",
    "fig,ax = plt.subplots(figsize=(12,8))\n",
    "plt.scatter(df['PRCP'], df['TRANSITING'], marker='x',color='red',s = 25)\n",
    "ax.plot(x,f,'b', label= 'model')\n",
    "plt.xlabel('Rain') \n",
    "plt.ylabel('Riders')\n",
    "plt.title('Scatter plot of training data')\n",
    "ax.legend()\n",
    "#plt.ylim(-0.5,10000)\n",
    "#plt.xlim(0,1)"
   ]
  },
  {
   "cell_type": "code",
   "execution_count": null,
   "metadata": {},
   "outputs": [],
   "source": []
  },
  {
   "cell_type": "code",
   "execution_count": null,
   "metadata": {
    "collapsed": true
   },
   "outputs": [],
   "source": []
  }
 ],
 "metadata": {
  "kernelspec": {
   "display_name": "Python 2",
   "language": "python",
   "name": "python2"
  },
  "language_info": {
   "codemirror_mode": {
    "name": "ipython",
    "version": 2
   },
   "file_extension": ".py",
   "mimetype": "text/x-python",
   "name": "python",
   "nbconvert_exporter": "python",
   "pygments_lexer": "ipython2",
   "version": "2.7.13"
  }
 },
 "nbformat": 4,
 "nbformat_minor": 2
}
