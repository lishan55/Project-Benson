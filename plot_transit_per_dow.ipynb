{
 "cells": [
  {
   "cell_type": "markdown",
   "metadata": {},
   "source": [
    "# Plot of transit per day of the week"
   ]
  },
  {
   "cell_type": "markdown",
   "metadata": {},
   "source": [
    "Make a plot of transit vs. day of the week, based on data from the 20 busiest stations."
   ]
  },
  {
   "cell_type": "code",
   "execution_count": 1,
   "metadata": {
    "collapsed": true
   },
   "outputs": [],
   "source": [
    "from __future__ import print_function, division\n",
    "import matplotlib.pyplot as plt\n",
    "import pandas as pd\n",
    "import numpy as np\n",
    "import seaborn as sb\n",
    "\n",
    "%matplotlib inline"
   ]
  },
  {
   "cell_type": "markdown",
   "metadata": {},
   "source": [
    "## Step one \n",
    "\n",
    "* read in data\n",
    "* Select only those rows with the busiest stations\n"
   ]
  },
  {
   "cell_type": "code",
   "execution_count": 2,
   "metadata": {
    "collapsed": true
   },
   "outputs": [],
   "source": [
    "path = '/Users/aleksandra/Desktop/output_data/Data/data_daily_weather.csv'\n",
    "with open(path) as f:\n",
    "    weather = pd.read_csv(f)"
   ]
  },
  {
   "cell_type": "code",
   "execution_count": 3,
   "metadata": {},
   "outputs": [
    {
     "data": {
      "text/html": [
       "<div>\n",
       "<style>\n",
       "    .dataframe thead tr:only-child th {\n",
       "        text-align: right;\n",
       "    }\n",
       "\n",
       "    .dataframe thead th {\n",
       "        text-align: left;\n",
       "    }\n",
       "\n",
       "    .dataframe tbody tr th {\n",
       "        vertical-align: top;\n",
       "    }\n",
       "</style>\n",
       "<table border=\"1\" class=\"dataframe\">\n",
       "  <thead>\n",
       "    <tr style=\"text-align: right;\">\n",
       "      <th></th>\n",
       "      <th>Unnamed: 0</th>\n",
       "      <th>C/A</th>\n",
       "      <th>UNIT</th>\n",
       "      <th>SCP</th>\n",
       "      <th>STATION</th>\n",
       "      <th>UN_STATION</th>\n",
       "      <th>DATE</th>\n",
       "      <th>ENTRIES</th>\n",
       "      <th>PREV_DATE</th>\n",
       "      <th>PREV_ENTRIES</th>\n",
       "      <th>EXITS</th>\n",
       "      <th>PREV_EXITS</th>\n",
       "      <th>SALDO_ENTRIES</th>\n",
       "      <th>SALDO_EXITS</th>\n",
       "      <th>TRANSITING</th>\n",
       "      <th>PRCP</th>\n",
       "    </tr>\n",
       "  </thead>\n",
       "  <tbody>\n",
       "    <tr>\n",
       "      <th>0</th>\n",
       "      <td>0</td>\n",
       "      <td>A002</td>\n",
       "      <td>R051</td>\n",
       "      <td>02-00-00</td>\n",
       "      <td>59 ST</td>\n",
       "      <td>59ST456NQR</td>\n",
       "      <td>2016-06-27</td>\n",
       "      <td>5714706</td>\n",
       "      <td>06/26/2016</td>\n",
       "      <td>5714130.0</td>\n",
       "      <td>1938907</td>\n",
       "      <td>1938649.0</td>\n",
       "      <td>576.0</td>\n",
       "      <td>258.0</td>\n",
       "      <td>834.0</td>\n",
       "      <td>0.45</td>\n",
       "    </tr>\n",
       "    <tr>\n",
       "      <th>1</th>\n",
       "      <td>1</td>\n",
       "      <td>A002</td>\n",
       "      <td>R051</td>\n",
       "      <td>02-00-01</td>\n",
       "      <td>59 ST</td>\n",
       "      <td>59ST456NQR</td>\n",
       "      <td>2016-06-27</td>\n",
       "      <td>5258231</td>\n",
       "      <td>06/26/2016</td>\n",
       "      <td>5257426.0</td>\n",
       "      <td>1153431</td>\n",
       "      <td>1153236.0</td>\n",
       "      <td>805.0</td>\n",
       "      <td>195.0</td>\n",
       "      <td>1000.0</td>\n",
       "      <td>0.45</td>\n",
       "    </tr>\n",
       "    <tr>\n",
       "      <th>2</th>\n",
       "      <td>2</td>\n",
       "      <td>A002</td>\n",
       "      <td>R051</td>\n",
       "      <td>02-03-00</td>\n",
       "      <td>59 ST</td>\n",
       "      <td>59ST456NQR</td>\n",
       "      <td>2016-06-27</td>\n",
       "      <td>724086</td>\n",
       "      <td>06/26/2016</td>\n",
       "      <td>723741.0</td>\n",
       "      <td>2733057</td>\n",
       "      <td>2731725.0</td>\n",
       "      <td>345.0</td>\n",
       "      <td>1332.0</td>\n",
       "      <td>1677.0</td>\n",
       "      <td>0.45</td>\n",
       "    </tr>\n",
       "    <tr>\n",
       "      <th>3</th>\n",
       "      <td>3</td>\n",
       "      <td>A002</td>\n",
       "      <td>R051</td>\n",
       "      <td>02-03-01</td>\n",
       "      <td>59 ST</td>\n",
       "      <td>59ST456NQR</td>\n",
       "      <td>2016-06-27</td>\n",
       "      <td>5247019</td>\n",
       "      <td>06/26/2016</td>\n",
       "      <td>5246055.0</td>\n",
       "      <td>8295526</td>\n",
       "      <td>8294063.0</td>\n",
       "      <td>964.0</td>\n",
       "      <td>1463.0</td>\n",
       "      <td>2427.0</td>\n",
       "      <td>0.45</td>\n",
       "    </tr>\n",
       "    <tr>\n",
       "      <th>4</th>\n",
       "      <td>4</td>\n",
       "      <td>A002</td>\n",
       "      <td>R051</td>\n",
       "      <td>02-03-02</td>\n",
       "      <td>59 ST</td>\n",
       "      <td>59ST456NQR</td>\n",
       "      <td>2016-06-27</td>\n",
       "      <td>4955367</td>\n",
       "      <td>06/26/2016</td>\n",
       "      <td>4954510.0</td>\n",
       "      <td>6859058</td>\n",
       "      <td>6857968.0</td>\n",
       "      <td>857.0</td>\n",
       "      <td>1090.0</td>\n",
       "      <td>1947.0</td>\n",
       "      <td>0.45</td>\n",
       "    </tr>\n",
       "  </tbody>\n",
       "</table>\n",
       "</div>"
      ],
      "text/plain": [
       "   Unnamed: 0   C/A  UNIT       SCP STATION  UN_STATION        DATE  ENTRIES  \\\n",
       "0           0  A002  R051  02-00-00   59 ST  59ST456NQR  2016-06-27  5714706   \n",
       "1           1  A002  R051  02-00-01   59 ST  59ST456NQR  2016-06-27  5258231   \n",
       "2           2  A002  R051  02-03-00   59 ST  59ST456NQR  2016-06-27   724086   \n",
       "3           3  A002  R051  02-03-01   59 ST  59ST456NQR  2016-06-27  5247019   \n",
       "4           4  A002  R051  02-03-02   59 ST  59ST456NQR  2016-06-27  4955367   \n",
       "\n",
       "    PREV_DATE  PREV_ENTRIES    EXITS  PREV_EXITS  SALDO_ENTRIES  SALDO_EXITS  \\\n",
       "0  06/26/2016     5714130.0  1938907   1938649.0          576.0        258.0   \n",
       "1  06/26/2016     5257426.0  1153431   1153236.0          805.0        195.0   \n",
       "2  06/26/2016      723741.0  2733057   2731725.0          345.0       1332.0   \n",
       "3  06/26/2016     5246055.0  8295526   8294063.0          964.0       1463.0   \n",
       "4  06/26/2016     4954510.0  6859058   6857968.0          857.0       1090.0   \n",
       "\n",
       "   TRANSITING  PRCP  \n",
       "0       834.0  0.45  \n",
       "1      1000.0  0.45  \n",
       "2      1677.0  0.45  \n",
       "3      2427.0  0.45  \n",
       "4      1947.0  0.45  "
      ]
     },
     "execution_count": 3,
     "metadata": {},
     "output_type": "execute_result"
    }
   ],
   "source": [
    "weather.head()"
   ]
  },
  {
   "cell_type": "markdown",
   "metadata": {},
   "source": [
    "Select only the relevant columns."
   ]
  },
  {
   "cell_type": "code",
   "execution_count": 4,
   "metadata": {},
   "outputs": [
    {
     "data": {
      "text/html": [
       "<div>\n",
       "<style>\n",
       "    .dataframe thead tr:only-child th {\n",
       "        text-align: right;\n",
       "    }\n",
       "\n",
       "    .dataframe thead th {\n",
       "        text-align: left;\n",
       "    }\n",
       "\n",
       "    .dataframe tbody tr th {\n",
       "        vertical-align: top;\n",
       "    }\n",
       "</style>\n",
       "<table border=\"1\" class=\"dataframe\">\n",
       "  <thead>\n",
       "    <tr style=\"text-align: right;\">\n",
       "      <th></th>\n",
       "      <th>STATION</th>\n",
       "      <th>UN_STATION</th>\n",
       "      <th>DATE</th>\n",
       "      <th>TRANSITING</th>\n",
       "    </tr>\n",
       "  </thead>\n",
       "  <tbody>\n",
       "    <tr>\n",
       "      <th>0</th>\n",
       "      <td>59 ST</td>\n",
       "      <td>59ST456NQR</td>\n",
       "      <td>2016-06-27</td>\n",
       "      <td>834.0</td>\n",
       "    </tr>\n",
       "    <tr>\n",
       "      <th>1</th>\n",
       "      <td>59 ST</td>\n",
       "      <td>59ST456NQR</td>\n",
       "      <td>2016-06-27</td>\n",
       "      <td>1000.0</td>\n",
       "    </tr>\n",
       "    <tr>\n",
       "      <th>2</th>\n",
       "      <td>59 ST</td>\n",
       "      <td>59ST456NQR</td>\n",
       "      <td>2016-06-27</td>\n",
       "      <td>1677.0</td>\n",
       "    </tr>\n",
       "    <tr>\n",
       "      <th>3</th>\n",
       "      <td>59 ST</td>\n",
       "      <td>59ST456NQR</td>\n",
       "      <td>2016-06-27</td>\n",
       "      <td>2427.0</td>\n",
       "    </tr>\n",
       "    <tr>\n",
       "      <th>4</th>\n",
       "      <td>59 ST</td>\n",
       "      <td>59ST456NQR</td>\n",
       "      <td>2016-06-27</td>\n",
       "      <td>1947.0</td>\n",
       "    </tr>\n",
       "  </tbody>\n",
       "</table>\n",
       "</div>"
      ],
      "text/plain": [
       "  STATION  UN_STATION        DATE  TRANSITING\n",
       "0   59 ST  59ST456NQR  2016-06-27       834.0\n",
       "1   59 ST  59ST456NQR  2016-06-27      1000.0\n",
       "2   59 ST  59ST456NQR  2016-06-27      1677.0\n",
       "3   59 ST  59ST456NQR  2016-06-27      2427.0\n",
       "4   59 ST  59ST456NQR  2016-06-27      1947.0"
      ]
     },
     "execution_count": 4,
     "metadata": {},
     "output_type": "execute_result"
    }
   ],
   "source": [
    "df = weather[['STATION', 'UN_STATION', 'DATE', 'TRANSITING']]\n",
    "df.head()"
   ]
  },
  {
   "cell_type": "markdown",
   "metadata": {},
   "source": [
    "Select 20 busiest stations."
   ]
  },
  {
   "cell_type": "code",
   "execution_count": 5,
   "metadata": {},
   "outputs": [],
   "source": [
    "transit_station = df.groupby('UN_STATION', as_index=False).sum()\n",
    "df_busiest_stations = transit_station.sort_values('TRANSITING', ascending=False).head(20)"
   ]
  },
  {
   "cell_type": "code",
   "execution_count": 6,
   "metadata": {},
   "outputs": [
    {
     "data": {
      "text/html": [
       "<div>\n",
       "<style>\n",
       "    .dataframe thead tr:only-child th {\n",
       "        text-align: right;\n",
       "    }\n",
       "\n",
       "    .dataframe thead th {\n",
       "        text-align: left;\n",
       "    }\n",
       "\n",
       "    .dataframe tbody tr th {\n",
       "        vertical-align: top;\n",
       "    }\n",
       "</style>\n",
       "<table border=\"1\" class=\"dataframe\">\n",
       "  <thead>\n",
       "    <tr style=\"text-align: right;\">\n",
       "      <th></th>\n",
       "      <th>UN_STATION</th>\n",
       "      <th>TRANSITING</th>\n",
       "    </tr>\n",
       "  </thead>\n",
       "  <tbody>\n",
       "    <tr>\n",
       "      <th>300</th>\n",
       "      <td>GRDCNTRL42ST4567S</td>\n",
       "      <td>20580477.0</td>\n",
       "    </tr>\n",
       "    <tr>\n",
       "      <th>83</th>\n",
       "      <td>34STHERALDSQBDFMNQR</td>\n",
       "      <td>16952616.0</td>\n",
       "    </tr>\n",
       "    <tr>\n",
       "      <th>435</th>\n",
       "      <td>TIMESSQ42ST1237ACENQRS</td>\n",
       "      <td>14461685.0</td>\n",
       "    </tr>\n",
       "    <tr>\n",
       "      <th>29</th>\n",
       "      <td>14STUNIONSQ456LNQR</td>\n",
       "      <td>14398597.0</td>\n",
       "    </tr>\n",
       "    <tr>\n",
       "      <th>291</th>\n",
       "      <td>FULTONST2345ACJZ</td>\n",
       "      <td>11495271.0</td>\n",
       "    </tr>\n",
       "  </tbody>\n",
       "</table>\n",
       "</div>"
      ],
      "text/plain": [
       "                 UN_STATION  TRANSITING\n",
       "300       GRDCNTRL42ST4567S  20580477.0\n",
       "83      34STHERALDSQBDFMNQR  16952616.0\n",
       "435  TIMESSQ42ST1237ACENQRS  14461685.0\n",
       "29       14STUNIONSQ456LNQR  14398597.0\n",
       "291        FULTONST2345ACJZ  11495271.0"
      ]
     },
     "execution_count": 6,
     "metadata": {},
     "output_type": "execute_result"
    }
   ],
   "source": [
    "df_busiest_stations.head()"
   ]
  },
  {
   "cell_type": "markdown",
   "metadata": {},
   "source": [
    "This df does not have the 'STATION' or the 'DATE' column anymore.\n",
    "\n",
    "Take 'UN_STATION' series and select rows from df based on this series."
   ]
  },
  {
   "cell_type": "code",
   "execution_count": 7,
   "metadata": {},
   "outputs": [],
   "source": [
    "busiest_stations = df_busiest_stations.UN_STATION\n",
    "\n",
    "busy_df = pd.DataFrame()\n",
    "\n",
    "for station in busiest_stations:\n",
    "    busy_df = busy_df.append(df.loc[df['UN_STATION'] == station])"
   ]
  },
  {
   "cell_type": "code",
   "execution_count": 8,
   "metadata": {},
   "outputs": [
    {
     "data": {
      "text/html": [
       "<div>\n",
       "<style>\n",
       "    .dataframe thead tr:only-child th {\n",
       "        text-align: right;\n",
       "    }\n",
       "\n",
       "    .dataframe thead th {\n",
       "        text-align: left;\n",
       "    }\n",
       "\n",
       "    .dataframe tbody tr th {\n",
       "        vertical-align: top;\n",
       "    }\n",
       "</style>\n",
       "<table border=\"1\" class=\"dataframe\">\n",
       "  <thead>\n",
       "    <tr style=\"text-align: right;\">\n",
       "      <th></th>\n",
       "      <th>STATION</th>\n",
       "      <th>UN_STATION</th>\n",
       "      <th>DATE</th>\n",
       "      <th>TRANSITING</th>\n",
       "    </tr>\n",
       "  </thead>\n",
       "  <tbody>\n",
       "    <tr>\n",
       "      <th>3299</th>\n",
       "      <td>GRD CNTRL-42 ST</td>\n",
       "      <td>GRDCNTRL42ST4567S</td>\n",
       "      <td>2016-06-27</td>\n",
       "      <td>2946.0</td>\n",
       "    </tr>\n",
       "    <tr>\n",
       "      <th>3300</th>\n",
       "      <td>GRD CNTRL-42 ST</td>\n",
       "      <td>GRDCNTRL42ST4567S</td>\n",
       "      <td>2016-06-27</td>\n",
       "      <td>2315.0</td>\n",
       "    </tr>\n",
       "    <tr>\n",
       "      <th>3301</th>\n",
       "      <td>GRD CNTRL-42 ST</td>\n",
       "      <td>GRDCNTRL42ST4567S</td>\n",
       "      <td>2016-06-27</td>\n",
       "      <td>2238.0</td>\n",
       "    </tr>\n",
       "    <tr>\n",
       "      <th>3302</th>\n",
       "      <td>GRD CNTRL-42 ST</td>\n",
       "      <td>GRDCNTRL42ST4567S</td>\n",
       "      <td>2016-06-27</td>\n",
       "      <td>473.0</td>\n",
       "    </tr>\n",
       "    <tr>\n",
       "      <th>3303</th>\n",
       "      <td>GRD CNTRL-42 ST</td>\n",
       "      <td>GRDCNTRL42ST4567S</td>\n",
       "      <td>2016-06-27</td>\n",
       "      <td>488.0</td>\n",
       "    </tr>\n",
       "  </tbody>\n",
       "</table>\n",
       "</div>"
      ],
      "text/plain": [
       "              STATION         UN_STATION        DATE  TRANSITING\n",
       "3299  GRD CNTRL-42 ST  GRDCNTRL42ST4567S  2016-06-27      2946.0\n",
       "3300  GRD CNTRL-42 ST  GRDCNTRL42ST4567S  2016-06-27      2315.0\n",
       "3301  GRD CNTRL-42 ST  GRDCNTRL42ST4567S  2016-06-27      2238.0\n",
       "3302  GRD CNTRL-42 ST  GRDCNTRL42ST4567S  2016-06-27       473.0\n",
       "3303  GRD CNTRL-42 ST  GRDCNTRL42ST4567S  2016-06-27       488.0"
      ]
     },
     "execution_count": 8,
     "metadata": {},
     "output_type": "execute_result"
    }
   ],
   "source": [
    "busy_df.head()"
   ]
  },
  {
   "cell_type": "markdown",
   "metadata": {},
   "source": [
    "## Step two\n",
    "* Convert 'DATE' to datetime format.\n",
    "* Extract day of the week from 'DATE' column."
   ]
  },
  {
   "cell_type": "code",
   "execution_count": 9,
   "metadata": {
    "collapsed": true
   },
   "outputs": [],
   "source": [
    "busy_df['DATE'] = pd.to_datetime(busy_df['DATE'])"
   ]
  },
  {
   "cell_type": "code",
   "execution_count": 10,
   "metadata": {
    "collapsed": true
   },
   "outputs": [],
   "source": [
    "busy_df['DAY_OF_WEEK'] = busy_df['DATE'].dt.weekday_name"
   ]
  },
  {
   "cell_type": "code",
   "execution_count": 11,
   "metadata": {},
   "outputs": [
    {
     "data": {
      "text/html": [
       "<div>\n",
       "<style>\n",
       "    .dataframe thead tr:only-child th {\n",
       "        text-align: right;\n",
       "    }\n",
       "\n",
       "    .dataframe thead th {\n",
       "        text-align: left;\n",
       "    }\n",
       "\n",
       "    .dataframe tbody tr th {\n",
       "        vertical-align: top;\n",
       "    }\n",
       "</style>\n",
       "<table border=\"1\" class=\"dataframe\">\n",
       "  <thead>\n",
       "    <tr style=\"text-align: right;\">\n",
       "      <th></th>\n",
       "      <th>STATION</th>\n",
       "      <th>UN_STATION</th>\n",
       "      <th>DATE</th>\n",
       "      <th>TRANSITING</th>\n",
       "      <th>DAY_OF_WEEK</th>\n",
       "    </tr>\n",
       "  </thead>\n",
       "  <tbody>\n",
       "    <tr>\n",
       "      <th>3299</th>\n",
       "      <td>GRD CNTRL-42 ST</td>\n",
       "      <td>GRDCNTRL42ST4567S</td>\n",
       "      <td>2016-06-27</td>\n",
       "      <td>2946.0</td>\n",
       "      <td>Monday</td>\n",
       "    </tr>\n",
       "    <tr>\n",
       "      <th>3300</th>\n",
       "      <td>GRD CNTRL-42 ST</td>\n",
       "      <td>GRDCNTRL42ST4567S</td>\n",
       "      <td>2016-06-27</td>\n",
       "      <td>2315.0</td>\n",
       "      <td>Monday</td>\n",
       "    </tr>\n",
       "    <tr>\n",
       "      <th>3301</th>\n",
       "      <td>GRD CNTRL-42 ST</td>\n",
       "      <td>GRDCNTRL42ST4567S</td>\n",
       "      <td>2016-06-27</td>\n",
       "      <td>2238.0</td>\n",
       "      <td>Monday</td>\n",
       "    </tr>\n",
       "    <tr>\n",
       "      <th>3302</th>\n",
       "      <td>GRD CNTRL-42 ST</td>\n",
       "      <td>GRDCNTRL42ST4567S</td>\n",
       "      <td>2016-06-27</td>\n",
       "      <td>473.0</td>\n",
       "      <td>Monday</td>\n",
       "    </tr>\n",
       "    <tr>\n",
       "      <th>3303</th>\n",
       "      <td>GRD CNTRL-42 ST</td>\n",
       "      <td>GRDCNTRL42ST4567S</td>\n",
       "      <td>2016-06-27</td>\n",
       "      <td>488.0</td>\n",
       "      <td>Monday</td>\n",
       "    </tr>\n",
       "  </tbody>\n",
       "</table>\n",
       "</div>"
      ],
      "text/plain": [
       "              STATION         UN_STATION       DATE  TRANSITING DAY_OF_WEEK\n",
       "3299  GRD CNTRL-42 ST  GRDCNTRL42ST4567S 2016-06-27      2946.0      Monday\n",
       "3300  GRD CNTRL-42 ST  GRDCNTRL42ST4567S 2016-06-27      2315.0      Monday\n",
       "3301  GRD CNTRL-42 ST  GRDCNTRL42ST4567S 2016-06-27      2238.0      Monday\n",
       "3302  GRD CNTRL-42 ST  GRDCNTRL42ST4567S 2016-06-27       473.0      Monday\n",
       "3303  GRD CNTRL-42 ST  GRDCNTRL42ST4567S 2016-06-27       488.0      Monday"
      ]
     },
     "execution_count": 11,
     "metadata": {},
     "output_type": "execute_result"
    }
   ],
   "source": [
    "busy_df.head()"
   ]
  },
  {
   "cell_type": "code",
   "execution_count": 12,
   "metadata": {},
   "outputs": [
    {
     "data": {
      "text/html": [
       "<div>\n",
       "<style>\n",
       "    .dataframe thead tr:only-child th {\n",
       "        text-align: right;\n",
       "    }\n",
       "\n",
       "    .dataframe thead th {\n",
       "        text-align: left;\n",
       "    }\n",
       "\n",
       "    .dataframe tbody tr th {\n",
       "        vertical-align: top;\n",
       "    }\n",
       "</style>\n",
       "<table border=\"1\" class=\"dataframe\">\n",
       "  <thead>\n",
       "    <tr style=\"text-align: right;\">\n",
       "      <th></th>\n",
       "      <th>STATION</th>\n",
       "      <th>UN_STATION</th>\n",
       "      <th>DATE</th>\n",
       "      <th>TRANSITING</th>\n",
       "      <th>DAY_OF_WEEK</th>\n",
       "    </tr>\n",
       "  </thead>\n",
       "  <tbody>\n",
       "    <tr>\n",
       "      <th>382018</th>\n",
       "      <td>14 ST</td>\n",
       "      <td>14ST123FLM</td>\n",
       "      <td>2016-09-23</td>\n",
       "      <td>1054.0</td>\n",
       "      <td>Friday</td>\n",
       "    </tr>\n",
       "    <tr>\n",
       "      <th>382019</th>\n",
       "      <td>14 ST</td>\n",
       "      <td>14ST123FLM</td>\n",
       "      <td>2016-09-23</td>\n",
       "      <td>811.0</td>\n",
       "      <td>Friday</td>\n",
       "    </tr>\n",
       "    <tr>\n",
       "      <th>382020</th>\n",
       "      <td>14 ST</td>\n",
       "      <td>14ST123FLM</td>\n",
       "      <td>2016-09-23</td>\n",
       "      <td>1133.0</td>\n",
       "      <td>Friday</td>\n",
       "    </tr>\n",
       "    <tr>\n",
       "      <th>382021</th>\n",
       "      <td>14 ST</td>\n",
       "      <td>14ST123FLM</td>\n",
       "      <td>2016-09-23</td>\n",
       "      <td>2338.0</td>\n",
       "      <td>Friday</td>\n",
       "    </tr>\n",
       "    <tr>\n",
       "      <th>382022</th>\n",
       "      <td>14 ST</td>\n",
       "      <td>14ST123FLM</td>\n",
       "      <td>2016-09-23</td>\n",
       "      <td>1931.0</td>\n",
       "      <td>Friday</td>\n",
       "    </tr>\n",
       "  </tbody>\n",
       "</table>\n",
       "</div>"
      ],
      "text/plain": [
       "       STATION  UN_STATION       DATE  TRANSITING DAY_OF_WEEK\n",
       "382018   14 ST  14ST123FLM 2016-09-23      1054.0      Friday\n",
       "382019   14 ST  14ST123FLM 2016-09-23       811.0      Friday\n",
       "382020   14 ST  14ST123FLM 2016-09-23      1133.0      Friday\n",
       "382021   14 ST  14ST123FLM 2016-09-23      2338.0      Friday\n",
       "382022   14 ST  14ST123FLM 2016-09-23      1931.0      Friday"
      ]
     },
     "execution_count": 12,
     "metadata": {},
     "output_type": "execute_result"
    }
   ],
   "source": [
    "busy_df.tail()"
   ]
  },
  {
   "cell_type": "markdown",
   "metadata": {
    "collapsed": true
   },
   "source": [
    "Add a column that has a number for each weekday, this will permit us to sort the columns in the plot."
   ]
  },
  {
   "cell_type": "code",
   "execution_count": 13,
   "metadata": {},
   "outputs": [],
   "source": [
    "weekdays = ['Monday', 'Tuesday', 'Wednesday', 'Thursday', 'Friday', 'Saturday', 'Sunday']\n",
    "mapping = {day: i for i, day in enumerate(weekdays)}\n",
    "busy_df['WD_NUM'] = busy_df['DAY_OF_WEEK'].map(mapping)"
   ]
  },
  {
   "cell_type": "code",
   "execution_count": 14,
   "metadata": {},
   "outputs": [
    {
     "data": {
      "text/html": [
       "<div>\n",
       "<style>\n",
       "    .dataframe thead tr:only-child th {\n",
       "        text-align: right;\n",
       "    }\n",
       "\n",
       "    .dataframe thead th {\n",
       "        text-align: left;\n",
       "    }\n",
       "\n",
       "    .dataframe tbody tr th {\n",
       "        vertical-align: top;\n",
       "    }\n",
       "</style>\n",
       "<table border=\"1\" class=\"dataframe\">\n",
       "  <thead>\n",
       "    <tr style=\"text-align: right;\">\n",
       "      <th></th>\n",
       "      <th>STATION</th>\n",
       "      <th>UN_STATION</th>\n",
       "      <th>DATE</th>\n",
       "      <th>TRANSITING</th>\n",
       "      <th>DAY_OF_WEEK</th>\n",
       "      <th>WD_NUM</th>\n",
       "    </tr>\n",
       "  </thead>\n",
       "  <tbody>\n",
       "    <tr>\n",
       "      <th>3299</th>\n",
       "      <td>GRD CNTRL-42 ST</td>\n",
       "      <td>GRDCNTRL42ST4567S</td>\n",
       "      <td>2016-06-27</td>\n",
       "      <td>2946.0</td>\n",
       "      <td>Monday</td>\n",
       "      <td>0</td>\n",
       "    </tr>\n",
       "    <tr>\n",
       "      <th>3300</th>\n",
       "      <td>GRD CNTRL-42 ST</td>\n",
       "      <td>GRDCNTRL42ST4567S</td>\n",
       "      <td>2016-06-27</td>\n",
       "      <td>2315.0</td>\n",
       "      <td>Monday</td>\n",
       "      <td>0</td>\n",
       "    </tr>\n",
       "    <tr>\n",
       "      <th>3301</th>\n",
       "      <td>GRD CNTRL-42 ST</td>\n",
       "      <td>GRDCNTRL42ST4567S</td>\n",
       "      <td>2016-06-27</td>\n",
       "      <td>2238.0</td>\n",
       "      <td>Monday</td>\n",
       "      <td>0</td>\n",
       "    </tr>\n",
       "    <tr>\n",
       "      <th>3302</th>\n",
       "      <td>GRD CNTRL-42 ST</td>\n",
       "      <td>GRDCNTRL42ST4567S</td>\n",
       "      <td>2016-06-27</td>\n",
       "      <td>473.0</td>\n",
       "      <td>Monday</td>\n",
       "      <td>0</td>\n",
       "    </tr>\n",
       "    <tr>\n",
       "      <th>3303</th>\n",
       "      <td>GRD CNTRL-42 ST</td>\n",
       "      <td>GRDCNTRL42ST4567S</td>\n",
       "      <td>2016-06-27</td>\n",
       "      <td>488.0</td>\n",
       "      <td>Monday</td>\n",
       "      <td>0</td>\n",
       "    </tr>\n",
       "  </tbody>\n",
       "</table>\n",
       "</div>"
      ],
      "text/plain": [
       "              STATION         UN_STATION       DATE  TRANSITING DAY_OF_WEEK  \\\n",
       "3299  GRD CNTRL-42 ST  GRDCNTRL42ST4567S 2016-06-27      2946.0      Monday   \n",
       "3300  GRD CNTRL-42 ST  GRDCNTRL42ST4567S 2016-06-27      2315.0      Monday   \n",
       "3301  GRD CNTRL-42 ST  GRDCNTRL42ST4567S 2016-06-27      2238.0      Monday   \n",
       "3302  GRD CNTRL-42 ST  GRDCNTRL42ST4567S 2016-06-27       473.0      Monday   \n",
       "3303  GRD CNTRL-42 ST  GRDCNTRL42ST4567S 2016-06-27       488.0      Monday   \n",
       "\n",
       "      WD_NUM  \n",
       "3299       0  \n",
       "3300       0  \n",
       "3301       0  \n",
       "3302       0  \n",
       "3303       0  "
      ]
     },
     "execution_count": 14,
     "metadata": {},
     "output_type": "execute_result"
    }
   ],
   "source": [
    "busy_df.head()"
   ]
  },
  {
   "cell_type": "code",
   "execution_count": 25,
   "metadata": {
    "collapsed": true
   },
   "outputs": [],
   "source": [
    "per_day = busy_df.groupby('WD_NUM', as_index=True).sum()"
   ]
  },
  {
   "cell_type": "markdown",
   "metadata": {},
   "source": [
    "Add a columns with weekdays in string format to be used as x-ticks in the plot."
   ]
  },
  {
   "cell_type": "code",
   "execution_count": 27,
   "metadata": {},
   "outputs": [],
   "source": [
    "per_day['DAY_OF_WEEK'] = weekdays"
   ]
  },
  {
   "cell_type": "code",
   "execution_count": 28,
   "metadata": {},
   "outputs": [
    {
     "data": {
      "text/html": [
       "<div>\n",
       "<style>\n",
       "    .dataframe thead tr:only-child th {\n",
       "        text-align: right;\n",
       "    }\n",
       "\n",
       "    .dataframe thead th {\n",
       "        text-align: left;\n",
       "    }\n",
       "\n",
       "    .dataframe tbody tr th {\n",
       "        vertical-align: top;\n",
       "    }\n",
       "</style>\n",
       "<table border=\"1\" class=\"dataframe\">\n",
       "  <thead>\n",
       "    <tr style=\"text-align: right;\">\n",
       "      <th></th>\n",
       "      <th>TRANSITING</th>\n",
       "      <th>DAY_OF_WEEK</th>\n",
       "    </tr>\n",
       "    <tr>\n",
       "      <th>WD_NUM</th>\n",
       "      <th></th>\n",
       "      <th></th>\n",
       "    </tr>\n",
       "  </thead>\n",
       "  <tbody>\n",
       "    <tr>\n",
       "      <th>0</th>\n",
       "      <td>14925948.0</td>\n",
       "      <td>Monday</td>\n",
       "    </tr>\n",
       "    <tr>\n",
       "      <th>1</th>\n",
       "      <td>29349287.0</td>\n",
       "      <td>Tuesday</td>\n",
       "    </tr>\n",
       "    <tr>\n",
       "      <th>2</th>\n",
       "      <td>33320081.0</td>\n",
       "      <td>Wednesday</td>\n",
       "    </tr>\n",
       "    <tr>\n",
       "      <th>3</th>\n",
       "      <td>33975271.0</td>\n",
       "      <td>Thursday</td>\n",
       "    </tr>\n",
       "    <tr>\n",
       "      <th>4</th>\n",
       "      <td>34008691.0</td>\n",
       "      <td>Friday</td>\n",
       "    </tr>\n",
       "    <tr>\n",
       "      <th>5</th>\n",
       "      <td>29883198.0</td>\n",
       "      <td>Saturday</td>\n",
       "    </tr>\n",
       "    <tr>\n",
       "      <th>6</th>\n",
       "      <td>16759165.0</td>\n",
       "      <td>Sunday</td>\n",
       "    </tr>\n",
       "  </tbody>\n",
       "</table>\n",
       "</div>"
      ],
      "text/plain": [
       "        TRANSITING DAY_OF_WEEK\n",
       "WD_NUM                        \n",
       "0       14925948.0      Monday\n",
       "1       29349287.0     Tuesday\n",
       "2       33320081.0   Wednesday\n",
       "3       33975271.0    Thursday\n",
       "4       34008691.0      Friday\n",
       "5       29883198.0    Saturday\n",
       "6       16759165.0      Sunday"
      ]
     },
     "execution_count": 28,
     "metadata": {},
     "output_type": "execute_result"
    }
   ],
   "source": [
    "per_day"
   ]
  },
  {
   "cell_type": "code",
   "execution_count": 42,
   "metadata": {},
   "outputs": [
    {
     "data": {
      "text/plain": [
       "34008691.0"
      ]
     },
     "execution_count": 42,
     "metadata": {},
     "output_type": "execute_result"
    }
   ],
   "source": [
    "per_day.TRANSITING.max()"
   ]
  },
  {
   "cell_type": "markdown",
   "metadata": {},
   "source": [
    "## Step three\n",
    "\n",
    "__The plot__\n",
    "\n",
    "* Barplot visualizes the fluctuation in transit straightforwardly.\n",
    "* Legend not necessary, there is only one variable.\n",
    "* rotate ticks for readability.\n",
    "* add labels for both axes and a title"
   ]
  },
  {
   "cell_type": "code",
   "execution_count": 56,
   "metadata": {},
   "outputs": [
    {
     "data": {
      "text/plain": [
       "<matplotlib.text.Text at 0x113cb6ac8>"
      ]
     },
     "execution_count": 56,
     "metadata": {},
     "output_type": "execute_result"
    },
    {
     "data": {
      "text/plain": [
       "<matplotlib.figure.Figure at 0x113c519e8>"
      ]
     },
     "metadata": {},
     "output_type": "display_data"
    },
    {
     "data": {
      "image/png": "[encoded data removed]",
      "text/plain": [
       "<matplotlib.figure.Figure at 0x113b87e80>"
      ]
     },
     "metadata": {},
     "output_type": "display_data"
    }
   ],
   "source": [
    "plt.figure(figsize=(10,3))\n",
    "pl = per_day.plot(x = 'DAY_OF_WEEK', y= 'TRANSITING', kind='bar'\n",
    "                  , legend=False, title = 'TRANSIT PER DAY OF THE WEEK', rot=45, fontsize=10, colormap = 'ocean')\n",
    "pl.set_xlabel('Weekday')\n",
    "pl.set_ylabel('Transit')"
   ]
  },
  {
   "cell_type": "code",
   "execution_count": 57,
   "metadata": {},
   "outputs": [],
   "source": [
    "fig = pl.get_figure()\n",
    "fig.savefig('Data/plot_transit_dow.pdf', bbox_inches=\"tight\")"
   ]
  }
 ],
 "metadata": {
  "anaconda-cloud": {},
  "kernelspec": {
   "display_name": "Python 3",
   "language": "python",
   "name": "python3"
  },
  "language_info": {
   "codemirror_mode": {
    "name": "ipython",
    "version": 3
   },
   "file_extension": ".py",
   "mimetype": "text/x-python",
   "name": "python",
   "nbconvert_exporter": "python",
   "pygments_lexer": "ipython3",
   "version": "3.6.1"
  }
 },
 "nbformat": 4,
 "nbformat_minor": 1
}
